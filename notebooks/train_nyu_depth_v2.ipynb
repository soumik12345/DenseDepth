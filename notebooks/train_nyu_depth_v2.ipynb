{
  "nbformat": 4,
  "nbformat_minor": 0,
  "metadata": {
    "colab": {
      "name": "Untitled77.ipynb",
      "provenance": [],
      "collapsed_sections": [],
      "authorship_tag": "ABX9TyOJoxkPEWalBVjpFPhSx5it",
      "include_colab_link": true
    },
    "kernelspec": {
      "name": "python3",
      "display_name": "Python 3"
    },
    "accelerator": "GPU"
  },
  "cells": [
    {
      "cell_type": "markdown",
      "metadata": {
        "id": "view-in-github",
        "colab_type": "text"
      },
      "source": [
        "<a href=\"https://colab.research.google.com/github/soumik12345/DenseDepth/blob/master/notebooks/train_nyu_depth_v2.ipynb\" target=\"_parent\"><img src=\"https://colab.research.google.com/assets/colab-badge.svg\" alt=\"Open In Colab\"/></a>"
      ]
    },
    {
      "cell_type": "code",
      "metadata": {
        "colab": {
          "base_uri": "https://localhost:8080/"
        },
        "id": "XqV5MvmfcIjf",
        "outputId": "107ab2dd-8921-4f68-e76f-aa98af3b2068"
      },
      "source": [
        "!nvidia-smi -L"
      ],
      "execution_count": 1,
      "outputs": [
        {
          "output_type": "stream",
          "text": [
            "GPU 0: Tesla T4 (UUID: GPU-f38d334a-78d2-5d49-71fe-e9bc4c149310)\n"
          ],
          "name": "stdout"
        }
      ]
    },
    {
      "cell_type": "code",
      "metadata": {
        "id": "BTbe0FEEcK1T",
        "colab": {
          "base_uri": "https://localhost:8080/"
        },
        "outputId": "273084ae-742c-4be7-92b7-a8856b6243cd"
      },
      "source": [
        "import os\r\n",
        "import urllib\r\n",
        "from getpass import getpass\r\n",
        "\r\n",
        "user = input('User name: ')\r\n",
        "password = getpass('Password: ')\r\n",
        "password = urllib.parse.quote(password)\r\n",
        "repo_address = input('Repo Address: ')\r\n",
        "branch_name = input('Branch name: ')\r\n",
        "\r\n",
        "cmd_string = 'git clone https://{}:{}@github.com/{}.git -b {}'.format(\r\n",
        "    user, password, repo_address, branch_name\r\n",
        ")\r\n",
        "\r\n",
        "os.system(cmd_string)\r\n",
        "cmd_string, password = \"\", \"\"\r\n",
        "%cd DenseDepth"
      ],
      "execution_count": 2,
      "outputs": [
        {
          "output_type": "stream",
          "text": [
            "User name: soumik12345\n",
            "Password: ··········\n",
            "Repo Address: soumik12345/DenseDepth\n",
            "Branch name: master\n",
            "/content/DenseDepth\n"
          ],
          "name": "stdout"
        }
      ]
    },
    {
      "cell_type": "code",
      "metadata": {
        "colab": {
          "base_uri": "https://localhost:8080/"
        },
        "id": "Z0JX37mzdkDy",
        "outputId": "7cbd049a-9701-42ea-cae9-caeefeb56e1f"
      },
      "source": [
        "!pip install -qq wandb"
      ],
      "execution_count": 3,
      "outputs": [
        {
          "output_type": "stream",
          "text": [
            "\u001b[K     |████████████████████████████████| 2.0MB 21.9MB/s \n",
            "\u001b[K     |████████████████████████████████| 163kB 41.6MB/s \n",
            "\u001b[K     |████████████████████████████████| 133kB 53.2MB/s \n",
            "\u001b[K     |████████████████████████████████| 102kB 14.4MB/s \n",
            "\u001b[K     |████████████████████████████████| 71kB 11.1MB/s \n",
            "\u001b[?25h  Building wheel for pathtools (setup.py) ... \u001b[?25l\u001b[?25hdone\n",
            "  Building wheel for subprocess32 (setup.py) ... \u001b[?25l\u001b[?25hdone\n"
          ],
          "name": "stdout"
        }
      ]
    },
    {
      "cell_type": "code",
      "metadata": {
        "colab": {
          "base_uri": "https://localhost:8080/"
        },
        "id": "hT5f9dBFkm78",
        "outputId": "91a36d2a-e59f-4657-fd1f-7978eb61353c"
      },
      "source": [
        "%cd DenseDepth"
      ],
      "execution_count": 1,
      "outputs": [
        {
          "output_type": "stream",
          "text": [
            "/content/DenseDepth\n"
          ],
          "name": "stdout"
        }
      ]
    },
    {
      "cell_type": "code",
      "metadata": {
        "id": "TEx0GJMmclQD"
      },
      "source": [
        "import tensorflow as tf\r\n",
        "from datetime import datetime\r\n",
        "from wandb.keras import WandbCallback\r\n",
        "\r\n",
        "from densedepth import (\r\n",
        "    NYUDepthV2DataLoader,\r\n",
        "    DenseDepth, DenseDepthLoss\r\n",
        ")\r\n",
        "from densedepth.utils import init_wandb, download_dataset"
      ],
      "execution_count": 2,
      "outputs": []
    },
    {
      "cell_type": "code",
      "metadata": {
        "colab": {
          "base_uri": "https://localhost:8080/"
        },
        "id": "U1bFYyEPfyJf",
        "outputId": "1681bcbd-1e25-410a-9b4a-2c14270ccba9"
      },
      "source": [
        "download_dataset(\r\n",
        "    dataset_name='nyu_data',\r\n",
        "    dataset_access_key='1nQd4hcsQVnX33vTv4dF2-xF_pjQ94S8P'\r\n",
        ")"
      ],
      "execution_count": 5,
      "outputs": [
        {
          "output_type": "stream",
          "text": [
            "Downloading...\n",
            "From: https://drive.google.com/uc?id=1nQd4hcsQVnX33vTv4dF2-xF_pjQ94S8P\n",
            "To: /content/DenseDepth/nyu_data.zip\n",
            "4.40GB [01:22, 53.0MB/s]\n"
          ],
          "name": "stderr"
        }
      ]
    },
    {
      "cell_type": "code",
      "metadata": {
        "id": "cp7YDT2Tctoy",
        "colab": {
          "base_uri": "https://localhost:8080/",
          "height": 134
        },
        "outputId": "3eeb0777-c3ef-4a1b-c754-3335386efc5b"
      },
      "source": [
        "experiment_name = 'NYU_Depth_V2_single_image_overfit'\r\n",
        "\r\n",
        "init_wandb(\r\n",
        "    project_name='densedepth', entity='19soumik-rakshit96',\r\n",
        "    experiment_name=experiment_name, wandb_api_key='cf0947ccde62903d4df0742a58b8a54ca4c11673'\r\n",
        ")"
      ],
      "execution_count": 3,
      "outputs": [
        {
          "output_type": "stream",
          "text": [
            "\u001b[34m\u001b[1mwandb\u001b[0m: Currently logged in as: \u001b[33m19soumik-rakshit96\u001b[0m (use `wandb login --relogin` to force relogin)\n"
          ],
          "name": "stderr"
        },
        {
          "output_type": "display_data",
          "data": {
            "text/html": [
              "\n",
              "                Tracking run with wandb version 0.10.21<br/>\n",
              "                Syncing run <strong style=\"color:#cdcd00\">NYU_Depth_V2_single_image_overfit</strong> to <a href=\"https://wandb.ai\" target=\"_blank\">Weights & Biases</a> <a href=\"https://docs.wandb.com/integrations/jupyter.html\" target=\"_blank\">(Documentation)</a>.<br/>\n",
              "                Project page: <a href=\"https://wandb.ai/19soumik-rakshit96/densedepth\" target=\"_blank\">https://wandb.ai/19soumik-rakshit96/densedepth</a><br/>\n",
              "                Run page: <a href=\"https://wandb.ai/19soumik-rakshit96/densedepth/runs/32m8mcpp\" target=\"_blank\">https://wandb.ai/19soumik-rakshit96/densedepth/runs/32m8mcpp</a><br/>\n",
              "                Run data is saved locally in <code>/content/DenseDepth/wandb/run-20210306_220504-32m8mcpp</code><br/><br/>\n",
              "            "
            ],
            "text/plain": [
              "<IPython.core.display.HTML object>"
            ]
          },
          "metadata": {
            "tags": []
          }
        }
      ]
    },
    {
      "cell_type": "code",
      "metadata": {
        "id": "lvtVFH2Hcxlq",
        "colab": {
          "base_uri": "https://localhost:8080/"
        },
        "outputId": "46965390-e08e-46ef-9854-ac5b712d6197"
      },
      "source": [
        "loader = NYUDepthV2DataLoader(\r\n",
        "    data_dir='./data/',\r\n",
        "    image_size=[480, 640], val_split=0.2, single_image_overfit=True\r\n",
        ")\r\n",
        "loader.summarize()\r\n",
        "train_dataset, val_dataset = loader.get_datasets(batch_size=1)\r\n",
        "print(train_dataset)\r\n",
        "print(val_dataset)"
      ],
      "execution_count": 4,
      "outputs": [
        {
          "output_type": "stream",
          "text": [
            "Train RGB Images: 1\n",
            "Train Depth Images: 1\n",
            "validation RGB Images: 1\n",
            "Validation Depth Images: 1\n",
            "<PrefetchDataset shapes: ((None, 480, 640, None), (None, 240, 320, None)), types: (tf.float32, tf.float32)>\n",
            "<PrefetchDataset shapes: ((None, 480, 640, None), (None, 240, 320, None)), types: (tf.float32, tf.float32)>\n"
          ],
          "name": "stdout"
        }
      ]
    },
    {
      "cell_type": "code",
      "metadata": {
        "id": "Dd7BO4xac0PC",
        "colab": {
          "base_uri": "https://localhost:8080/"
        },
        "outputId": "282d8576-f52a-49f6-f5a9-f6dda11a3f07"
      },
      "source": [
        "model = DenseDepth()\r\n",
        "model.compile(\r\n",
        "    optimizer=tf.keras.optimizers.Adam(\r\n",
        "        learning_rate=1e-4, amsgrad=True\r\n",
        "    ), loss=DenseDepthLoss(\r\n",
        "        lambda_weight=0.1, depth_max_val=1000.0 / 10.0\r\n",
        "    )\r\n",
        ")"
      ],
      "execution_count": 5,
      "outputs": [
        {
          "output_type": "stream",
          "text": [
            "Downloading data from https://storage.googleapis.com/tensorflow/keras-applications/densenet/densenet169_weights_tf_dim_ordering_tf_kernels_notop.h5\n",
            "51879936/51877672 [==============================] - 0s 0us/step\n"
          ],
          "name": "stdout"
        }
      ]
    },
    {
      "cell_type": "code",
      "metadata": {
        "id": "jtsmr8dEc2cz"
      },
      "source": [
        "callbacks = [\r\n",
        "    tf.keras.callbacks.TensorBoard(\r\n",
        "        log_dir='./logs/train/' + datetime.now().strftime('%Y%m%d-%H%M%S'),\r\n",
        "        histogram_freq=1, update_freq=50, write_images=True\r\n",
        "    ),\r\n",
        "    WandbCallback(),\r\n",
        "    tf.keras.callbacks.ModelCheckpoint(\r\n",
        "        './logs/train/' + experiment_name + '_{epoch}.ckpt', save_weights_only=True\r\n",
        "    )\r\n",
        "]"
      ],
      "execution_count": 6,
      "outputs": []
    },
    {
      "cell_type": "code",
      "metadata": {
        "id": "tFBhpPPsc6Ki",
        "colab": {
          "base_uri": "https://localhost:8080/"
        },
        "outputId": "57bc4292-5834-42fe-e17c-d709ac0c025a"
      },
      "source": [
        "history = model.fit(\r\n",
        "    train_dataset, validation_data=val_dataset,\r\n",
        "    epochs=15, callbacks=callbacks\r\n",
        ")"
      ],
      "execution_count": 7,
      "outputs": [
        {
          "output_type": "stream",
          "text": [
            "Epoch 1/15\n",
            "1/1 [==============================] - ETA: 0s - loss: 0.7831"
          ],
          "name": "stdout"
        },
        {
          "output_type": "stream",
          "text": [
            "\u001b[34m\u001b[1mwandb\u001b[0m: \u001b[33mWARNING\u001b[0m When using several event log directories, please call wandb.tensorboard.patch(root_logdir=\"...\") before wandb.init\n"
          ],
          "name": "stderr"
        },
        {
          "output_type": "stream",
          "text": [
            "\b\b\b\b\b\b\b\b\b\b\b\b\b\b\b\b\b\b\b\b\b\b\b\b\b\b\b\b\b\b\b\b\b\b\b\b\b\b\b\b\b\b\b\b\b\b\b\b\b\b\b\b\b\b\b\b\b\b\b\b\b\r1/1 [==============================] - 60s 60s/step - loss: 0.7831 - val_loss: 0.6240\n"
          ],
          "name": "stdout"
        },
        {
          "output_type": "stream",
          "text": [
            "\u001b[34m\u001b[1mwandb\u001b[0m: \u001b[32m\u001b[41mERROR\u001b[0m Can't save model, h5py returned error: Saving the model to HDF5 format requires the model to be a Functional model or a Sequential model. It does not work for subclassed models, because such models are defined via the body of a Python method, which isn't safely serializable. Consider saving to the Tensorflow SavedModel format (by setting save_format=\"tf\") or using `save_weights`.\n"
          ],
          "name": "stderr"
        },
        {
          "output_type": "stream",
          "text": [
            "Epoch 2/15\n",
            "1/1 [==============================] - 3s 3s/step - loss: 0.5959 - val_loss: 0.4650\n",
            "Epoch 3/15\n",
            "1/1 [==============================] - 1s 581ms/step - loss: 0.3069 - val_loss: 0.3630\n",
            "Epoch 4/15\n",
            "1/1 [==============================] - 1s 526ms/step - loss: 0.2895 - val_loss: 0.3330\n",
            "Epoch 5/15\n",
            "1/1 [==============================] - 1s 558ms/step - loss: 0.2161 - val_loss: 0.3302\n",
            "Epoch 6/15\n",
            "1/1 [==============================] - 0s 495ms/step - loss: 0.1576 - val_loss: 0.3384\n",
            "Epoch 7/15\n",
            "1/1 [==============================] - 1s 512ms/step - loss: 0.1836 - val_loss: 0.3169\n",
            "Epoch 8/15\n",
            "1/1 [==============================] - 0s 451ms/step - loss: 0.1542 - val_loss: 0.2809\n",
            "Epoch 9/15\n",
            "1/1 [==============================] - 0s 459ms/step - loss: 0.1283 - val_loss: 0.2649\n",
            "Epoch 10/15\n",
            "1/1 [==============================] - 0s 453ms/step - loss: 0.1392 - val_loss: 0.2614\n",
            "Epoch 11/15\n",
            "1/1 [==============================] - 1s 511ms/step - loss: 0.1123 - val_loss: 0.2692\n",
            "Epoch 12/15\n",
            "1/1 [==============================] - 1s 521ms/step - loss: 0.1216 - val_loss: 0.2599\n",
            "Epoch 13/15\n",
            "1/1 [==============================] - 0s 456ms/step - loss: 0.1187 - val_loss: 0.2372\n",
            "Epoch 14/15\n",
            "1/1 [==============================] - 1s 559ms/step - loss: 0.1048 - val_loss: 0.2260\n",
            "Epoch 15/15\n",
            "1/1 [==============================] - 0s 484ms/step - loss: 0.1071 - val_loss: 0.2288\n"
          ],
          "name": "stdout"
        }
      ]
    },
    {
      "cell_type": "code",
      "metadata": {
        "id": "fQjqB9IRki7s"
      },
      "source": [
        ""
      ],
      "execution_count": null,
      "outputs": []
    }
  ]
}